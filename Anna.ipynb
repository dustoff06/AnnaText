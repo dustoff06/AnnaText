{
 "cells": [
  {
   "cell_type": "markdown",
   "id": "3c6aacba",
   "metadata": {},
   "source": [
    "# Pre-Processing\n",
    "\n",
    "Here are a fraction of the packages you will want to use for text processing. "
   ]
  },
  {
   "cell_type": "code",
   "execution_count": 34,
   "id": "a2c7dff0",
   "metadata": {},
   "outputs": [],
   "source": [
    "import os\n",
    "import nltk\n",
    "from nltk.corpus import wordnet, stopwords\n",
    "from nltk.stem import WordNetLemmatizer\n",
    "from nltk.tokenize import word_tokenize \n",
    "\n",
    "import numpy as np\n",
    "import pandas as pd\n",
    "\n",
    "#Text & Number Manipulation\n",
    "import re\n",
    "import string\n",
    "from string import punctuation\n",
    "from num2words import num2words\n",
    "\n",
    "#Plotting\n",
    "import matplotlib\n",
    "import matplotlib.pyplot as plt #for plotting\n",
    "\n",
    "#Initiliaze Lemmatizer, Stopwords Handler, and Wordnet Map (For Later Use)\n",
    "lemmatizer = WordNetLemmatizer()\n",
    "stopwords = set(nltk.corpus.stopwords.words('english'))\n",
    "wordnet_map = {\"N\":wordnet.NOUN, \"V\":wordnet.VERB, \"J\":wordnet.ADJ, \"R\":wordnet.ADV}"
   ]
  },
  {
   "cell_type": "markdown",
   "id": "9f8fe289",
   "metadata": {},
   "source": [
    "# Read and Verify Text"
   ]
  },
  {
   "cell_type": "code",
   "execution_count": 35,
   "id": "6580001a",
   "metadata": {},
   "outputs": [
    {
     "data": {
      "text/html": [
       "<div>\n",
       "<style scoped>\n",
       "    .dataframe tbody tr th:only-of-type {\n",
       "        vertical-align: middle;\n",
       "    }\n",
       "\n",
       "    .dataframe tbody tr th {\n",
       "        vertical-align: top;\n",
       "    }\n",
       "\n",
       "    .dataframe thead th {\n",
       "        text-align: right;\n",
       "    }\n",
       "</style>\n",
       "<table border=\"1\" class=\"dataframe\">\n",
       "  <thead>\n",
       "    <tr style=\"text-align: right;\">\n",
       "      <th></th>\n",
       "      <th>Index</th>\n",
       "      <th>Type</th>\n",
       "      <th>Concatenate</th>\n",
       "    </tr>\n",
       "  </thead>\n",
       "  <tbody>\n",
       "    <tr>\n",
       "      <th>0</th>\n",
       "      <td>1</td>\n",
       "      <td>HACK</td>\n",
       "      <td>STRATA Trust Company NA CA 7 17 2020 2 10 2020...</td>\n",
       "    </tr>\n",
       "    <tr>\n",
       "      <th>1</th>\n",
       "      <td>2</td>\n",
       "      <td>HACK</td>\n",
       "      <td>Gannett Company Inc. Gannett_Company_Inc.-6fc8...</td>\n",
       "    </tr>\n",
       "    <tr>\n",
       "      <th>2</th>\n",
       "      <td>10</td>\n",
       "      <td>HACK</td>\n",
       "      <td>Professional Personnel Services dba Luttrell S...</td>\n",
       "    </tr>\n",
       "    <tr>\n",
       "      <th>3</th>\n",
       "      <td>11</td>\n",
       "      <td>HACK</td>\n",
       "      <td>DJO LLC DJO_LLC-919d7617-69a2-4b25-8325-c2bd3c...</td>\n",
       "    </tr>\n",
       "    <tr>\n",
       "      <th>4</th>\n",
       "      <td>12</td>\n",
       "      <td>HACK</td>\n",
       "      <td>Talx Corporation NA MD 5 11 2017 4 17 2016 BSO...</td>\n",
       "    </tr>\n",
       "  </tbody>\n",
       "</table>\n",
       "</div>"
      ],
      "text/plain": [
       "  Index  Type                                        Concatenate\n",
       "0     1  HACK  STRATA Trust Company NA CA 7 17 2020 2 10 2020...\n",
       "1     2  HACK  Gannett Company Inc. Gannett_Company_Inc.-6fc8...\n",
       "2    10  HACK  Professional Personnel Services dba Luttrell S...\n",
       "3    11  HACK  DJO LLC DJO_LLC-919d7617-69a2-4b25-8325-c2bd3c...\n",
       "4    12  HACK  Talx Corporation NA MD 5 11 2017 4 17 2016 BSO..."
      ]
     },
     "execution_count": 35,
     "metadata": {},
     "output_type": "execute_result"
    }
   ],
   "source": [
    "os.chdir(\"/mnt/c/users/lfult/desktop/\")\n",
    "total=pd.read_csv('annatotal.csv', dtype='str')\n",
    "train=pd.read_csv('annatrain.csv', dtype='str')\n",
    "test=pd.read_csv('annatest.csv', dtype='str')\n",
    "train.head()"
   ]
  },
  {
   "cell_type": "markdown",
   "id": "49f7d4d4-e97a-47fd-b9fc-0ac8b111f4cb",
   "metadata": {},
   "source": [
    "# Build Feature Set\n",
    "\n",
    "All missing were imputed with the text NA.  All fields were concatenated.\n"
   ]
  },
  {
   "cell_type": "markdown",
   "id": "997c4eea-2452-4ae5-8258-63419027bb72",
   "metadata": {},
   "source": [
    "# Graph Frequencies"
   ]
  },
  {
   "cell_type": "code",
   "execution_count": 37,
   "id": "615a1c1a",
   "metadata": {},
   "outputs": [
    {
     "data": {
      "text/plain": [
       "<AxesSubplot:xlabel='Word'>"
      ]
     },
     "execution_count": 37,
     "metadata": {},
     "output_type": "execute_result"
    },
    {
     "data": {
      "image/png": "[encoded data removed]",
      "text/plain": [
       "<Figure size 640x480 with 1 Axes>"
      ]
     },
     "metadata": {},
     "output_type": "display_data"
    }
   ],
   "source": [
    "txt = train.Concatenate.str.cat(sep=' ')\n",
    "words = nltk.tokenize.word_tokenize(txt)\n",
    "word_dist = nltk.FreqDist(words)\n",
    "rslt = pd.DataFrame(word_dist.most_common(10), columns=['Word', 'Frequency']).set_index('Word')\n",
    "matplotlib.style.use('ggplot')\n",
    "rslt.plot.bar(rot=0)"
   ]
  },
  {
   "cell_type": "markdown",
   "id": "f6b1721e-1c34-4373-9b30-46e663734813",
   "metadata": {},
   "source": [
    "# Text Processing, RNN Model"
   ]
  },
  {
   "cell_type": "code",
   "execution_count": 49,
   "id": "08254b15-9ed5-4f25-befb-0260035ab3b5",
   "metadata": {},
   "outputs": [],
   "source": [
    "import tensorflow as tf\n",
    "from tensorflow.keras.preprocessing.sequence import pad_sequences \n",
    "from tensorflow.keras.layers import Input, Dense, Dropout, Flatten, Activation, Embedding, Bidirectional, Dense, LSTM #pull in the dense, dropout, and flatten layers\n",
    "from tensorflow.keras.preprocessing.text import Tokenizer #RNN\n",
    "import tensorflow.keras #keras\n",
    "from tensorflow.keras import Sequential,Input,Model #pull in the sequential, input layers and a model\n",
    "\n",
    "oov_token = '<UNK>'   #out of vocabulary replacement\n",
    "pad_type = 'post'     #padding type\n",
    "trunc_type = 'post'   #truncation type\n",
    "num_words = 50000  \n",
    "\n",
    "\n",
    "tokenizer = Tokenizer(num_words=num_words, oov_token=oov_token)\n",
    "mybatch=8  #set batch size, learns better small for this data\n",
    "embedding_size=128 #set out size for embedding\n",
    "num_epochs=9 #set the number of epochs..\n",
    "tf.random.set_seed(1234) #set random number seed for tensorflow, python, etc.\n",
    "\n",
    "tokenizer.fit_on_texts(total.Concatenate.astype('str'))\n",
    "train_sequences1 = tokenizer.texts_to_sequences(train.Concatenate.astype('str')) \n",
    "maxlen = max([len(x) for x in train_sequences1])\n",
    "train_X = pad_sequences(train_sequences1, padding=pad_type, truncating=trunc_type, maxlen=maxlen)\n",
    "\n",
    "\n",
    "\n"
   ]
  },
  {
   "cell_type": "markdown",
   "id": "1957a718-3b2f-4620-beb4-355a4be4dcac",
   "metadata": {},
   "source": [
    "# Apply to Test Set"
   ]
  },
  {
   "cell_type": "code",
   "execution_count": 122,
   "id": "244fae4e-5836-4672-9103-880db137a3b3",
   "metadata": {},
   "outputs": [],
   "source": [
    "test_sequences1 = tokenizer.texts_to_sequences(test.Concatenate.astype('str'))\n",
    "test_X = pad_sequences(test_sequences1, padding=pad_type, truncating=trunc_type, maxlen=maxlen)"
   ]
  },
  {
   "cell_type": "code",
   "execution_count": 50,
   "id": "b194eda7-cafc-4a55-ab8f-c8b24cb97b67",
   "metadata": {},
   "outputs": [
    {
     "name": "stdout",
     "output_type": "stream",
     "text": [
      "(20043, 830) (3, 830) (20043, 9)\n"
     ]
    }
   ],
   "source": [
    "print(train_X.shape,test_X.shape, train_y.shape)"
   ]
  },
  {
   "cell_type": "markdown",
   "id": "7d75996f-c1ae-458d-88d7-14cef70a7de8",
   "metadata": {},
   "source": [
    "# Input Shapes"
   ]
  },
  {
   "cell_type": "code",
   "execution_count": 51,
   "id": "4da7050a-2dcc-4d55-bfcd-b433f0f76596",
   "metadata": {},
   "outputs": [],
   "source": [
    "input_1 = Input(shape=(train_X.shape[1]))"
   ]
  },
  {
   "cell_type": "markdown",
   "id": "682789f2-fb24-44d2-a27d-7830b8cc3e7b",
   "metadata": {},
   "source": [
    "# RNN"
   ]
  },
  {
   "cell_type": "code",
   "execution_count": 52,
   "id": "a7d3b104-ac54-49e0-8c42-230f885cee17",
   "metadata": {},
   "outputs": [],
   "source": [
    "input_1 = Input(shape=train_X.shape[1])\n",
    "v=Embedding(len(tokenizer.word_index) + 1, embedding_size)(input_1)\n",
    "v=Bidirectional(LSTM(embedding_size, return_sequences=True, dropout=.5))(v)\n",
    "v=Bidirectional(LSTM(embedding_size, return_sequences=False, dropout=.2))(v)\n",
    "output=Dense(16,activation='relu')(v)\n",
    "output=Dropout(.1)(output)\n",
    "output=Dense(7, activation='softmax')(output)\n",
    "model=Model(inputs=input_1, outputs=output)"
   ]
  },
  {
   "cell_type": "markdown",
   "id": "aa8fc722-aa47-48ac-abe1-4ad8c7892b9a",
   "metadata": {},
   "source": [
    "# Model"
   ]
  },
  {
   "cell_type": "code",
   "execution_count": 53,
   "id": "0a9d9c38-c1e1-44b7-a834-98ff560ba23e",
   "metadata": {},
   "outputs": [
    {
     "name": "stdout",
     "output_type": "stream",
     "text": [
      "Model: \"model_7\"\n",
      "_________________________________________________________________\n",
      " Layer (type)                Output Shape              Param #   \n",
      "=================================================================\n",
      " input_8 (InputLayer)        [(None, 830)]             0         \n",
      "                                                                 \n",
      " embedding_4 (Embedding)     (None, 830, 128)          16490240  \n",
      "                                                                 \n",
      " bidirectional_11 (Bidirect  (None, 830, 256)          263168    \n",
      " ional)                                                          \n",
      "                                                                 \n",
      " bidirectional_12 (Bidirect  (None, 256)               394240    \n",
      " ional)                                                          \n",
      "                                                                 \n",
      " dense_9 (Dense)             (None, 16)                4112      \n",
      "                                                                 \n",
      " dropout_4 (Dropout)         (None, 16)                0         \n",
      "                                                                 \n",
      " dense_10 (Dense)            (None, 7)                 119       \n",
      "                                                                 \n",
      "=================================================================\n",
      "Total params: 17151879 (65.43 MB)\n",
      "Trainable params: 17151879 (65.43 MB)\n",
      "Non-trainable params: 0 (0.00 Byte)\n",
      "_________________________________________________________________\n"
     ]
    }
   ],
   "source": [
    "model=Model(inputs=input_1, outputs=output)\n",
    "\n",
    "with tf.device('/GPU:0'):    \n",
    "    model = model\n",
    "    SGD= tensorflow.keras.optimizers.SGD(learning_rate=0.0001, nesterov=True)\n",
    "    adam=tensorflow.keras.optimizers.Adam(learning_rate=0.0001)  #No rules in battle...but if there were, always carry a reserve.\n",
    "    model.compile(loss=tensorflow.keras.losses.categorical_crossentropy, \n",
    "              optimizer=adam, metrics=['categorical_accuracy'])\n",
    "    model.summary()"
   ]
  },
  {
   "cell_type": "code",
   "execution_count": 54,
   "id": "77883606-677d-4398-b5a0-ee0ea5667a98",
   "metadata": {},
   "outputs": [
    {
     "data": {
      "image/png": "[encoded data removed]",
      "text/plain": [
       "<IPython.core.display.Image object>"
      ]
     },
     "execution_count": 54,
     "metadata": {},
     "output_type": "execute_result"
    }
   ],
   "source": [
    "from tensorflow.keras.utils import plot_model\n",
    "plot_model(model, to_file='model_plot3.png', show_shapes=True, show_layer_names=True, expand_nested=False)"
   ]
  },
  {
   "cell_type": "code",
   "execution_count": 58,
   "id": "329e1cef-fb65-4197-9895-4fbcd36b469f",
   "metadata": {},
   "outputs": [
    {
     "data": {
      "text/plain": [
       "array([[0, 0, 1, ..., 0, 0, 0],\n",
       "       [0, 0, 1, ..., 0, 0, 0],\n",
       "       [0, 0, 1, ..., 0, 0, 0],\n",
       "       ...,\n",
       "       [0, 0, 1, ..., 0, 0, 0],\n",
       "       [0, 0, 1, ..., 0, 0, 0],\n",
       "       [0, 0, 1, ..., 0, 0, 0]])"
      ]
     },
     "execution_count": 58,
     "metadata": {},
     "output_type": "execute_result"
    }
   ],
   "source": [
    "train_y=pd.get_dummies(train, columns=['Type'], dtype='int')\n",
    "train_y=train_y.iloc[:,2:9].values\n",
    "train_y"
   ]
  },
  {
   "cell_type": "markdown",
   "id": "8dc13476-0118-4215-b955-557ea96206d8",
   "metadata": {},
   "source": [
    "# Compile"
   ]
  },
  {
   "cell_type": "code",
   "execution_count": 117,
   "id": "90a6f324-3b20-43e8-b12e-c26dce783c8c",
   "metadata": {},
   "outputs": [
    {
     "name": "stderr",
     "output_type": "stream",
     "text": [
      "/home/python8r/.local/lib/python3.10/site-packages/tensorflow/python/data/ops/structured_function.py:258: UserWarning: Even though the `tf.config.experimental_run_functions_eagerly` option is set, this option does not apply to tf.data functions. To force eager execution of tf.data functions, please use `tf.data.experimental.enable_debug_mode()`.\n",
      "  warnings.warn(\n"
     ]
    },
    {
     "name": "stdout",
     "output_type": "stream",
     "text": [
      "1754/1754 [==============================] - ETA: 0s - loss: 0.1039 - categorical_accuracy: 0.9671\n",
      "Epoch 1: categorical_accuracy improved from -inf to 0.96714, saving model to best_model.keras\n",
      "1754/1754 [==============================] - 496s 283ms/step - loss: 0.1039 - categorical_accuracy: 0.9671 - val_loss: 0.1651 - val_categorical_accuracy: 0.9639\n"
     ]
    }
   ],
   "source": [
    "from tensorflow.keras.callbacks import EarlyStopping,ModelCheckpoint \n",
    "tf.random.set_seed(1234)\n",
    "tf.config.run_functions_eagerly(True)\n",
    "checkpoint = ModelCheckpoint(\"best_model.keras\", monitor='categorical_accuracy', verbose=2,\n",
    "    save_best_only=True, mode='auto')\n",
    "history=model.fit(x=train_X,y=train_y,batch_size=mybatch,verbose=1,epochs=1, validation_split=.3, callbacks=[checkpoint]) "
   ]
  },
  {
   "cell_type": "markdown",
   "id": "08382eaf-4175-4c9a-a8c2-7dc58a5ac6db",
   "metadata": {},
   "source": [
    "# Predict"
   ]
  },
  {
   "cell_type": "code",
   "execution_count": 123,
   "id": "306a1142-419b-493e-9e22-9ae227b5baf2",
   "metadata": {},
   "outputs": [
    {
     "name": "stderr",
     "output_type": "stream",
     "text": [
      "/home/python8r/.local/lib/python3.10/site-packages/tensorflow/python/data/ops/structured_function.py:258: UserWarning: Even though the `tf.config.experimental_run_functions_eagerly` option is set, this option does not apply to tf.data functions. To force eager execution of tf.data functions, please use `tf.data.experimental.enable_debug_mode()`.\n",
      "  warnings.warn(\n"
     ]
    },
    {
     "name": "stdout",
     "output_type": "stream",
     "text": [
      "473/473 [==============================] - 35s 75ms/step\n"
     ]
    }
   ],
   "source": [
    "predict=model.predict(test_X)"
   ]
  },
  {
   "cell_type": "code",
   "execution_count": 125,
   "id": "024fa4c4-f08a-4692-a847-efabc7a2dcc4",
   "metadata": {},
   "outputs": [],
   "source": [
    "from sklearn.metrics import confusion_matrix\n",
    "preddf=pd.DataFrame(predict)\n",
    "preddf.columns=['CARD', 'DISC', 'HACK', 'INSD', 'PHYS','PORT', 'STAT']\n",
    "preddf['Index']=test['Index']\n",
    "preddf\n",
    "preddf.to_csv('Probabilities.csv',index=False)\n"
   ]
  }
 ],
 "metadata": {
  "kernelspec": {
   "display_name": "Python 3 (ipykernel)",
   "language": "python",
   "name": "python3"
  },
  "language_info": {
   "codemirror_mode": {
    "name": "ipython",
    "version": 3
   },
   "file_extension": ".py",
   "mimetype": "text/x-python",
   "name": "python",
   "nbconvert_exporter": "python",
   "pygments_lexer": "ipython3",
   "version": "3.10.12"
  }
 },
 "nbformat": 4,
 "nbformat_minor": 5
}
